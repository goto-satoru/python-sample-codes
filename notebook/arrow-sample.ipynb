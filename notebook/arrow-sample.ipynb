{
 "cells": [
  {
   "attachments": {},
   "cell_type": "markdown",
   "id": "0e8429a6",
   "metadata": {},
   "source": [
    "Parse [\"ISO 8601\"](https://en.wikipedia.org/wiki/ISO_8601) date time, convert to UNIX epoch timestamp"
   ]
  },
  {
   "cell_type": "code",
   "execution_count": 1,
   "id": "2c2133be",
   "metadata": {},
   "outputs": [
    {
     "name": "stdout",
     "output_type": "stream",
     "text": [
      "1688482800000.0\n"
     ]
    }
   ],
   "source": [
    "import arrow\n",
    "ts = arrow.get('2023-07-05T00:00:00+09:00').timestamp()*1000.0\n",
    "print(ts)"
   ]
  },
  {
   "attachments": {},
   "cell_type": "markdown",
   "id": "b626e2ce",
   "metadata": {},
   "source": [
    "format in ISO8601 w/ timezone"
   ]
  },
  {
   "cell_type": "code",
   "execution_count": 4,
   "id": "24b80cac",
   "metadata": {},
   "outputs": [
    {
     "data": {
      "text/plain": [
       "'2023-07-04T15:00:00+0000'"
      ]
     },
     "execution_count": 4,
     "metadata": {},
     "output_type": "execute_result"
    }
   ],
   "source": [
    "arrow.get(ts).format('YYYY-MM-DDTHH:mm:ssZ')"
   ]
  },
  {
   "attachments": {},
   "cell_type": "markdown",
   "id": "58e38c89",
   "metadata": {},
   "source": [
    "convert timezone, then format in ISO8601"
   ]
  },
  {
   "cell_type": "code",
   "execution_count": 5,
   "id": "bb098e14",
   "metadata": {},
   "outputs": [
    {
     "data": {
      "text/plain": [
       "'1970-01-01T09:00:00+0900'"
      ]
     },
     "execution_count": 5,
     "metadata": {},
     "output_type": "execute_result"
    }
   ],
   "source": [
    "arrow.get(0).to('Asia/Tokyo').format('YYYY-MM-DDTHH:mm:ssZ')"
   ]
  }
 ],
 "metadata": {
  "kernelspec": {
   "display_name": "Python 3 (ipykernel)",
   "language": "python",
   "name": "python3"
  },
  "language_info": {
   "codemirror_mode": {
    "name": "ipython",
    "version": 3
   },
   "file_extension": ".py",
   "mimetype": "text/x-python",
   "name": "python",
   "nbconvert_exporter": "python",
   "pygments_lexer": "ipython3",
   "version": "3.11.4"
  }
 },
 "nbformat": 4,
 "nbformat_minor": 5
}
