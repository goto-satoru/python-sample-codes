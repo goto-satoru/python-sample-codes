{
 "cells": [
  {
   "cell_type": "code",
   "execution_count": 6,
   "id": "c7bba3bf",
   "metadata": {},
   "outputs": [
    {
     "data": {
      "text/html": [
       "<div>\n",
       "<style scoped>\n",
       "    .dataframe tbody tr th:only-of-type {\n",
       "        vertical-align: middle;\n",
       "    }\n",
       "\n",
       "    .dataframe tbody tr th {\n",
       "        vertical-align: top;\n",
       "    }\n",
       "\n",
       "    .dataframe thead th {\n",
       "        text-align: right;\n",
       "    }\n",
       "</style>\n",
       "<table border=\"1\" class=\"dataframe\">\n",
       "  <thead>\n",
       "    <tr style=\"text-align: right;\">\n",
       "      <th></th>\n",
       "      <th>timestamp</th>\n",
       "    </tr>\n",
       "  </thead>\n",
       "  <tbody>\n",
       "    <tr>\n",
       "      <th>0</th>\n",
       "      <td>2023-07-05 09:00:00+09:00</td>\n",
       "    </tr>\n",
       "    <tr>\n",
       "      <th>1</th>\n",
       "      <td>2023-07-05 18:00:00+09:00</td>\n",
       "    </tr>\n",
       "    <tr>\n",
       "      <th>2</th>\n",
       "      <td>2023-07-06 03:00:00+09:00</td>\n",
       "    </tr>\n",
       "  </tbody>\n",
       "</table>\n",
       "</div>"
      ],
      "text/plain": [
       "                  timestamp\n",
       "0 2023-07-05 09:00:00+09:00\n",
       "1 2023-07-05 18:00:00+09:00\n",
       "2 2023-07-06 03:00:00+09:00"
      ]
     },
     "execution_count": 6,
     "metadata": {},
     "output_type": "execute_result"
    }
   ],
   "source": [
    "import pandas as pd\n",
    "from pytz import timezone\n",
    "\n",
    "# Create a sample DataFrame\n",
    "df = pd.DataFrame({\n",
    "    'timestamp': [\n",
    "        '2023-07-05 00:00:00',\n",
    "        '2023-07-05 09:00:00',\n",
    "        '2023-07-05 18:00:00'],\n",
    "})\n",
    "\n",
    "# Convert the 'timestamp' column to datetime\n",
    "df['timestamp'] = pd.to_datetime(df['timestamp'])\n",
    "\n",
    "# Specify the original timezone of the 'timestamp' column\n",
    "original_timezone = timezone('UTC')\n",
    "\n",
    "# Specify the target timezone you want to convert to\n",
    "target_timezone = timezone('Asia/Tokyo')\n",
    "\n",
    "# Convert the 'timestamp' column to the target timezone\n",
    "df['timestamp'] = df['timestamp'].dt.tz_localize(original_timezone).dt.tz_convert(target_timezone)\n",
    "df"
   ]
  },
  {
   "cell_type": "code",
   "execution_count": null,
   "id": "ad2eb9f6",
   "metadata": {},
   "outputs": [],
   "source": []
  }
 ],
 "metadata": {
  "kernelspec": {
   "display_name": "Python 3 (ipykernel)",
   "language": "python",
   "name": "python3"
  },
  "language_info": {
   "codemirror_mode": {
    "name": "ipython",
    "version": 3
   },
   "file_extension": ".py",
   "mimetype": "text/x-python",
   "name": "python",
   "nbconvert_exporter": "python",
   "pygments_lexer": "ipython3",
   "version": "3.8.16"
  }
 },
 "nbformat": 4,
 "nbformat_minor": 5
}
